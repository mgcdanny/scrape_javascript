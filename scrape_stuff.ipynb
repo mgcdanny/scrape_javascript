{
 "metadata": {
  "name": "",
  "signature": "sha256:9ede5389cc9fecfc19c39ffa701c258cf4de7692cb003a0f4e30cee6b0e01568"
 },
 "nbformat": 3,
 "nbformat_minor": 0,
 "worksheets": [
  {
   "cells": [
    {
     "cell_type": "code",
     "collapsed": false,
     "input": [
      "import requests as rq\n",
      "from pprint import pprint"
     ],
     "language": "python",
     "metadata": {},
     "outputs": [],
     "prompt_number": 1
    },
    {
     "cell_type": "code",
     "collapsed": false,
     "input": [
      "g = rq.get('http://127.0.0.1:5000/')"
     ],
     "language": "python",
     "metadata": {},
     "outputs": [],
     "prompt_number": 2
    },
    {
     "cell_type": "code",
     "collapsed": false,
     "input": [
      "pprint(g.text)"
     ],
     "language": "python",
     "metadata": {},
     "outputs": [
      {
       "output_type": "stream",
       "stream": "stdout",
       "text": [
        "'<!DOCTYPE html>\\n'\n",
        "'<html lang=\"en\">\\n'\n",
        "'  <head>\\n'\n",
        "'    <meta charset=\"utf-8\">\\n'\n",
        "'    <meta http-equiv=\"X-UA-Compatible\" content=\"IE=edge\">\\n'\n",
        "'    <meta name=\"viewport\" content=\"width=device-width, initial-scale=1\">\\n'\n",
        "'    <title>blah</title>\\n'\n",
        "'\\n'\n",
        "'    <!-- Bootstrap -->\\n'\n",
        "'\\t<!-- Latest compiled and minified CSS -->\\n'\n",
        "'\\t<link rel=\"stylesheet\" '\n",
        "'href=\"https://maxcdn.bootstrapcdn.com/bootstrap/3.3.1/css/bootstrap.min.css\">\\n'\n",
        "'\\t<script '\n",
        "'src=\"//ajax.googleapis.com/ajax/libs/angularjs/1.3.6/angular.min.js\"></script>\\n'\n",
        "'    <!-- HTML5 shim and Respond.js for IE8 support of HTML5 elements and '\n",
        "'media queries -->\\n'\n",
        "\"    <!-- WARNING: Respond.js doesn't work if you view the page via file:// \"\n",
        "'-->\\n'\n",
        "'    <!--[if lt IE 9]>\\n'\n",
        "'      <script '\n",
        "'src=\"https://oss.maxcdn.com/html5shiv/3.7.2/html5shiv.min.js\"></script>\\n'\n",
        "'      <script '\n",
        "'src=\"https://oss.maxcdn.com/respond/1.4.2/respond.min.js\"></script>\\n'\n",
        "'    <![endif]-->\\n'\n",
        "'  </head>\\n'\n",
        "'  <body>\\n'\n",
        "'\\t<div class=\"page-header\">\\n'\n",
        "'  \\t\\t<h1>Easy Site to Scrape! <small>because all the data is in the HTML '\n",
        "'file</small></h1>\\n'\n",
        "'\\t</div>\\n'\n",
        "'\\t<div class=\"bs-example\">\\n'\n",
        "'\\t    <table class=\"table\">\\n'\n",
        "'\\t        <thead>\\n'\n",
        "'\\t            <tr>\\n'\n",
        "'\\t                <th>Row</th>\\n'\n",
        "'\\t                <th>First Name</th>\\n'\n",
        "'\\t                <th>Last Name</th>\\n'\n",
        "'\\t                <th>Email</th>\\n'\n",
        "'\\t            </tr>\\n'\n",
        "'\\t        </thead>\\n'\n",
        "'\\t        <tbody>\\n'\n",
        "'\\t            <tr>\\n'\n",
        "'\\t                <td>1</td>\\n'\n",
        "'\\t                <td>John</td>\\n'\n",
        "'\\t                <td>Carter</td>\\n'\n",
        "'\\t                <td>johncarter@mail.com</td>\\n'\n",
        "'\\t            </tr>\\n'\n",
        "'\\t            <tr>\\n'\n",
        "'\\t                <td>2</td>\\n'\n",
        "'\\t                <td>Peter</td>\\n'\n",
        "'\\t                <td>Parker</td>\\n'\n",
        "'\\t                <td>peterparker@mail.com</td>\\n'\n",
        "'\\t            </tr>\\n'\n",
        "'\\t            <tr>\\n'\n",
        "'\\t                <td>3</td>\\n'\n",
        "'\\t                <td>John</td>\\n'\n",
        "'\\t                <td>Rambo</td>\\n'\n",
        "'\\t                <td>johnrambo@mail.com</td>\\n'\n",
        "'\\t            </tr>\\n'\n",
        "'\\t        </tbody>\\n'\n",
        "'\\t    </table>\\n'\n",
        "'\\t</div>\\n'\n",
        "'  </body>\\n'\n",
        "'\\n'\n",
        "'</html>\\n'\n",
        "'\\n'\n",
        "'\\n'\n",
        "'\\n'\n",
        "'\\n'\n"
       ]
      }
     ],
     "prompt_number": 3
    },
    {
     "cell_type": "code",
     "collapsed": false,
     "input": [
      "j = rq.get('http://127.0.0.1:5000/spa#/')"
     ],
     "language": "python",
     "metadata": {},
     "outputs": [],
     "prompt_number": 4
    },
    {
     "cell_type": "code",
     "collapsed": false,
     "input": [
      "pprint(j.text)"
     ],
     "language": "python",
     "metadata": {},
     "outputs": [
      {
       "output_type": "stream",
       "stream": "stdout",
       "text": [
        "'<!DOCTYPE HTML>\\n'\n",
        "'<html lang=\"en\" ng-app=\"angApp\">  \\n'\n",
        "'\\t<head>\\n'\n",
        "'\\t\\t<meta charset=\"utf-8\">\\n'\n",
        "'\\t\\t<meta name=\"viewport\" content=\"width=device-width, initial-scale=1.0\">\\n'\n",
        "'\\t\\t<title></title>\\n'\n",
        "'\\t\\t<!-- Bootstrap -->\\n'\n",
        "'\\t\\t<link rel=\"stylesheet\" '\n",
        "'href=\"https://maxcdn.bootstrapcdn.com/bootstrap/3.3.1/css/bootstrap.min.css\">\\n'\n",
        "\"\\t\\t<link rel='stylesheet prefetch' \"\n",
        "\"href='http://netdna.bootstrapcdn.com/font-awesome/4.0.0/css/font-awesome.min.css'>\\n\"\n",
        "'\\n'\n",
        "'\\n'\n",
        "'\\t\\t<!-- Angular Source Files -->\\n'\n",
        "'\\t\\t<script '\n",
        "'src=\"//ajax.googleapis.com/ajax/libs/angularjs/1.3.6/angular.js\"></script>\\n'\n",
        "'\\t\\t<script '\n",
        "'src=\"//ajax.googleapis.com/ajax/libs/angularjs/1.3.6/angular-resource.js\"></script>\\n'\n",
        "'\\t\\t<script '\n",
        "'src=\"//ajax.googleapis.com/ajax/libs/angularjs/1.3.6/angular-route.js\"></script>\\n'\n",
        "'\\t\\t<script '\n",
        "'src=\"//ajax.googleapis.com/ajax/libs/angularjs/1.3.6/angular-sanitize.js\"></script>\\n'\n",
        "'\\t\\t\\n'\n",
        "'\\t\\t<!-- My Angular Module, CSS -->\\n'\n",
        "'\\t\\t<script type=\"text/javascript\" '\n",
        "'src=\"static/controller/angApp.js\"></script>\\n'\n",
        "'\\t\\t<script type=\"text/javascript\" '\n",
        "'src=\"static/controller/homeCtrl.js\"></script>\\n'\n",
        "'\\t\\t<script type=\"text/javascript\" '\n",
        "'src=\"static/controller/detailCtrl.js\"></script>\\n'\n",
        "'\\t</head>\\n'\n",
        "'\\n'\n",
        "'\\t<body>\\n'\n",
        "'\\t\\t<div ng-view></div>\\n'\n",
        "'\\t</body>\\n'\n",
        "'</html>\\n'\n",
        "'\\n'\n",
        "'\\n'\n",
        "'\\n'\n"
       ]
      }
     ],
     "prompt_number": 5
    },
    {
     "cell_type": "code",
     "collapsed": false,
     "input": [
      "from selenium import webdriver\n",
      "driver = webdriver.PhantomJS()\n",
      "driver.get('http://127.0.0.1:5000/spa#/')"
     ],
     "language": "python",
     "metadata": {},
     "outputs": [],
     "prompt_number": 56
    },
    {
     "cell_type": "code",
     "collapsed": false,
     "input": [
      "theData = driver.find_element_by_class_name(\"theData\")"
     ],
     "language": "python",
     "metadata": {},
     "outputs": [],
     "prompt_number": 57
    },
    {
     "cell_type": "code",
     "collapsed": false,
     "input": [
      "theData.text"
     ],
     "language": "python",
     "metadata": {},
     "outputs": [
      {
       "metadata": {},
       "output_type": "pyout",
       "prompt_number": 64,
       "text": [
        "'Nexus S Fast just got faster with Nexus S: $500\\nMotorola XOOM\u2122 with Wi-Fi The Next, Next Generation tablet: $250\\nMOTOROLA XOOM\u2122 The Next, Next Generation tablet is here: $300'"
       ]
      }
     ],
     "prompt_number": 64
    },
    {
     "cell_type": "code",
     "collapsed": false,
     "input": [
      "#just because it is cool\n",
      "driver.get_screenshot_as_file(\"screenshot.png\")"
     ],
     "language": "python",
     "metadata": {},
     "outputs": [],
     "prompt_number": 62
    }
   ],
   "metadata": {}
  }
 ]
}